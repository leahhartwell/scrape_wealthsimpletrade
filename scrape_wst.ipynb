{
 "cells": [
  {
   "cell_type": "code",
   "execution_count": 5,
   "metadata": {},
   "outputs": [],
   "source": [
    "import requests\n",
    "from urllib.request import urlopen\n",
    "from bs4 import BeautifulSoup"
   ]
  },
  {
   "cell_type": "code",
   "execution_count": 17,
   "metadata": {},
   "outputs": [
    {
     "name": "stdout",
     "output_type": "stream",
     "text": [
      "\n",
      "None\n"
     ]
    }
   ],
   "source": [
    "login_url = 'https://my.wealthsimple.com/app/login'\n",
    "data = {\n",
    "    'email': 'email',\n",
    "    'password': 'password'\n",
    "}\n",
    "\n",
    "\n",
    "response = requests.post(login_url , data)\n",
    "print(response.text)\n",
    "\n",
    "    \n",
    "url = 'https://my.wealthsimple.com/app/trade/activities'\n",
    "page = urlopen(url)\n",
    "html = page.read().decode('utf-8')\n",
    "soup = BeautifulSoup(html, 'html.parser')\n",
    "print(soup.find(\"span\"))"
   ]
  },
  {
   "cell_type": "code",
   "execution_count": null,
   "metadata": {},
   "outputs": [],
   "source": []
  }
 ],
 "metadata": {
  "kernelspec": {
   "display_name": "Python 3",
   "language": "python",
   "name": "python3"
  },
  "language_info": {
   "codemirror_mode": {
    "name": "ipython",
    "version": 3
   },
   "file_extension": ".py",
   "mimetype": "text/x-python",
   "name": "python",
   "nbconvert_exporter": "python",
   "pygments_lexer": "ipython3",
   "version": "3.9.1"
  }
 },
 "nbformat": 4,
 "nbformat_minor": 4
}
